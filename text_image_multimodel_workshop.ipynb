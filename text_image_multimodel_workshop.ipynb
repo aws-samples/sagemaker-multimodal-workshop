{
 "cells": [
  {
   "cell_type": "markdown",
   "id": "8e788eac",
   "metadata": {},
   "source": [
    "# Text and images: Getting Started with Multimodal on Sagemaker\n",
    "Information in the real world usually comes as different sensory input/output channels, like: images that can be associated with text explanations; or text that contains images to more clearly express the main idea of the article. \n",
    "*Multimodal learning* is a good model to represent the joint representations of different modalities.\n",
    "In this talk  we would provide a gentle introduction to Multimodal learning and would train and deploy a multimodal predictor based on natural language text, images and tabular data using SageMaker and AutoGloun.\n",
    "\n",
    "We will train a model that takes pet NLP descriptions, images and tabular features to predict how fast (category) they will get adopted.\n"
   ]
  },
  {
   "cell_type": "markdown",
   "id": "21f652a7",
   "metadata": {},
   "source": [
    "## Step 1: Install libraries and prepare environment \n",
    "! Important: this workshop was tested on ml.g4dn.8xlarge, 200 GB (!!!), conda_mxnet_p37 kernel "
   ]
  },
  {
   "cell_type": "markdown",
   "id": "acb35691",
   "metadata": {},
   "source": [
    "Because 'llvmlite' is a distutils installed project, pip is not able to remove it. \n",
    "Let's remove it manually."
   ]
  },
  {
   "cell_type": "code",
   "execution_count": null,
   "id": "c027765a",
   "metadata": {},
   "outputs": [],
   "source": [
    "%%time \n",
    "!find /home/ec2-user/anaconda3 -type f -name '*llvmlite*.egg-info' -delete"
   ]
  },
  {
   "cell_type": "markdown",
   "id": "247965a9",
   "metadata": {},
   "source": [
    "Next, we'll upgrade pip amd install autogluon lib."
   ]
  },
  {
   "cell_type": "code",
   "execution_count": null,
   "id": "6846069a",
   "metadata": {},
   "outputs": [],
   "source": [
    "%pip install -U pip\n",
    "%pip install -U setuptools wheel\n",
    "%pip install -U mxnet<2.0.0\n",
    "%pip install autogluon --ignore-installed\n",
    "%pip install -U sagemaker"
   ]
  },
  {
   "cell_type": "markdown",
   "id": "d238a5c6",
   "metadata": {},
   "source": [
    "To ensure we can run local mode, increase the conda memory to 95%."
   ]
  },
  {
   "cell_type": "code",
   "execution_count": 4,
   "id": "974e10a5",
   "metadata": {},
   "outputs": [],
   "source": [
    "!cp -f image.py /home/ec2-user/anaconda3/envs/mxnet_p37/lib/python3.7/site-packages/sagemaker/local/image.py"
   ]
  },
  {
   "cell_type": "code",
   "execution_count": null,
   "id": "1b8c4d8c",
   "metadata": {},
   "outputs": [],
   "source": [
    "# only run the below cells when you are using sagemaker notebook instances\n",
    "!bash ./prepare-docker.sh"
   ]
  },
  {
   "cell_type": "code",
   "execution_count": null,
   "id": "4402cdfa",
   "metadata": {},
   "outputs": [],
   "source": [
    "!wget -q https://raw.githubusercontent.com/aws-samples/amazon-sagemaker-script-mode/master/local_mode_setup.sh\n",
    "!/bin/bash ./local_mode_setup.sh"
   ]
  },
  {
   "cell_type": "markdown",
   "id": "cccfff78",
   "metadata": {},
   "source": [
    "Restart the kernel"
   ]
  },
  {
   "cell_type": "code",
   "execution_count": null,
   "id": "94643955",
   "metadata": {},
   "outputs": [],
   "source": [
    "import IPython\n",
    "\n",
    "IPython.Application.instance().kernel.do_shutdown(True) #automatically restarts kernel"
   ]
  },
  {
   "cell_type": "markdown",
   "id": "de0d841c",
   "metadata": {},
   "source": [
    "## Step 2: Download and explore data"
   ]
  },
  {
   "cell_type": "code",
   "execution_count": 63,
   "id": "7375d070",
   "metadata": {},
   "outputs": [],
   "source": [
    "import sagemaker\n",
    "import os\n",
    "import subprocess\n",
    "from sagemaker.mxnet import MXNet\n",
    "from autogluon.core.utils.loaders import load_zip\n",
    "from sagemaker.s3 import S3Uploader, s3_path_join\n",
    "\n",
    "sagemaker_session = sagemaker.Session()\n",
    "\n",
    "bucket = sagemaker_session.default_bucket()\n",
    "prefix = \"sagemaker/DEMO-autogluon-text-image-multimodel\"\n",
    "region = sagemaker_session.boto_region_name\n",
    "account_id = sagemaker_session.account_id()\n",
    "role = sagemaker.get_execution_role()"
   ]
  },
  {
   "cell_type": "code",
   "execution_count": 64,
   "id": "e01d4346",
   "metadata": {},
   "outputs": [],
   "source": [
    "download_dir = './ag_automm_tutorial'\n",
    "zip_file = 'https://automl-mm-bench.s3.amazonaws.com/petfinder_for_tutorial.zip'"
   ]
  },
  {
   "cell_type": "code",
   "execution_count": null,
   "id": "2080dbc7",
   "metadata": {},
   "outputs": [],
   "source": [
    "%%time\n",
    "load_zip.unzip(zip_file, unzip_dir=download_dir)"
   ]
  },
  {
   "cell_type": "markdown",
   "id": "4d1b2e06",
   "metadata": {},
   "source": [
    "Explore the data"
   ]
  },
  {
   "cell_type": "code",
   "execution_count": 65,
   "id": "76e1d15a",
   "metadata": {},
   "outputs": [],
   "source": [
    "import pandas as pd\n",
    "dataset_path = download_dir + '/petfinder_for_tutorial'\n",
    "train_data = pd.read_csv(f'{dataset_path}/train.csv', index_col=0)\n",
    "test_data = pd.read_csv(f'{dataset_path}/test.csv', index_col=0)\n",
    "label_col = 'AdoptionSpeed'"
   ]
  },
  {
   "cell_type": "code",
   "execution_count": 66,
   "id": "0eea1ac8",
   "metadata": {},
   "outputs": [
    {
     "data": {
      "text/plain": [
       "'/home/ec2-user/SageMaker/sagemaker-multimodal-workshop/ag_automm_tutorial/petfinder_for_tutorial/images/7d7a39d71-1.jpg'"
      ]
     },
     "execution_count": 66,
     "metadata": {},
     "output_type": "execute_result"
    }
   ],
   "source": [
    "image_col = 'Images'\n",
    "train_data[image_col] = train_data[image_col].apply(lambda ele: ele.split(';')[0]) # Use the first image for a quick tutorial\n",
    "test_data[image_col] = test_data[image_col].apply(lambda ele: ele.split(';')[0])\n",
    "\n",
    "\n",
    "def path_expander(path, base_folder):\n",
    "    path_l = path.split(';')\n",
    "    return ';'.join([os.path.abspath(os.path.join(base_folder, path)) for path in path_l])\n",
    "\n",
    "train_data[image_col] = train_data[image_col].apply(lambda ele: path_expander(ele, base_folder=dataset_path))\n",
    "test_data[image_col] = test_data[image_col].apply(lambda ele: path_expander(ele, base_folder=dataset_path))\n",
    "\n",
    "train_data[image_col].iloc[0]"
   ]
  },
  {
   "cell_type": "code",
   "execution_count": null,
   "id": "a289dfdc",
   "metadata": {},
   "outputs": [],
   "source": [
    "train_data['AdoptionSpeed'].hist()"
   ]
  },
  {
   "cell_type": "code",
   "execution_count": null,
   "id": "a919c63b",
   "metadata": {},
   "outputs": [],
   "source": [
    "train_data.hist(figsize=(20,20))"
   ]
  },
  {
   "cell_type": "code",
   "execution_count": 69,
   "id": "5738f497",
   "metadata": {},
   "outputs": [
    {
     "data": {
      "text/plain": [
       "Type                                                             2\n",
       "Name                                                 Yumi Hamasaki\n",
       "Age                                                              4\n",
       "Breed1                                                         292\n",
       "Breed2                                                         265\n",
       "Gender                                                           2\n",
       "Color1                                                           1\n",
       "Color2                                                           5\n",
       "Color3                                                           7\n",
       "MaturitySize                                                     2\n",
       "FurLength                                                        2\n",
       "Vaccinated                                                       1\n",
       "Dewormed                                                         3\n",
       "Sterilized                                                       2\n",
       "Health                                                           1\n",
       "Quantity                                                         1\n",
       "Fee                                                              0\n",
       "State                                                        41326\n",
       "RescuerID                         bcc4e1b9557a8b3aaf545ea8e6e86991\n",
       "VideoAmt                                                         0\n",
       "Description      I rescued Yumi Hamasaki at a food stall far aw...\n",
       "PetID                                                    7d7a39d71\n",
       "PhotoAmt                                                       3.0\n",
       "AdoptionSpeed                                                    0\n",
       "Images           /home/ec2-user/SageMaker/sagemaker-multimodal-...\n",
       "Name: 0, dtype: object"
      ]
     },
     "execution_count": 69,
     "metadata": {},
     "output_type": "execute_result"
    }
   ],
   "source": [
    "example_row = train_data.iloc[0]\n",
    "\n",
    "example_row"
   ]
  },
  {
   "cell_type": "code",
   "execution_count": null,
   "id": "5c1cd3be",
   "metadata": {},
   "outputs": [],
   "source": [
    "example_row['Description']\n"
   ]
  },
  {
   "cell_type": "code",
   "execution_count": 70,
   "id": "59b4d0fb",
   "metadata": {},
   "outputs": [
    {
     "data": {
      "image/jpeg": "[encoded data removed]",
      "text/plain": [
       "<IPython.core.display.Image object>"
      ]
     },
     "metadata": {},
     "output_type": "display_data"
    }
   ],
   "source": [
    "example_image = example_row[image_col]\n",
    "\n",
    "from IPython.display import Image, display\n",
    "pil_img = Image(filename=example_image)\n",
    "display(pil_img)"
   ]
  },
  {
   "cell_type": "markdown",
   "id": "6e42c326",
   "metadata": {},
   "source": [
    "Upload to s3"
   ]
  },
  {
   "cell_type": "code",
   "execution_count": null,
   "id": "cb47adad",
   "metadata": {},
   "outputs": [],
   "source": [
    "s3_data_path = s3_path_join(\"s3://\", bucket, f\"{prefix}/data\")\n",
    "dataset_path = download_dir + '/petfinder_for_tutorial'\n",
    "print(f\"Uploading data to {s3_data_path}\")\n",
    "data_uri = S3Uploader.upload(dataset_path, s3_data_path)"
   ]
  },
  {
   "cell_type": "markdown",
   "id": "f14424dd",
   "metadata": {},
   "source": [
    "## Train the model"
   ]
  },
  {
   "cell_type": "code",
   "execution_count": null,
   "id": "5edd1cc4",
   "metadata": {},
   "outputs": [],
   "source": [
    "instance_type = \"local\"\n",
    "\n",
    "try:\n",
    "    if subprocess.call(\"nvidia-smi\") == 0:\n",
    "        ## Set type to GPU if one is present\n",
    "        instance_type = \"local_gpu\"\n",
    "except:\n",
    "    pass\n",
    "\n",
    "print(\"Instance type = \" + instance_type)"
   ]
  },
  {
   "cell_type": "code",
   "execution_count": 13,
   "id": "2a23a462",
   "metadata": {},
   "outputs": [],
   "source": [
    "from sagemaker import image_uris"
   ]
  },
  {
   "cell_type": "code",
   "execution_count": 14,
   "id": "61dc6eac",
   "metadata": {},
   "outputs": [],
   "source": [
    "image_uri = image_uris.retrieve(\n",
    "            \"autogluon\",\n",
    "            region=region,\n",
    "            version=\"0.5\",\n",
    "            py_version=\"py38\",\n",
    "            image_scope=\"training\",\n",
    "            instance_type=\"local_gpu\",\n",
    "        )"
   ]
  },
  {
   "cell_type": "code",
   "execution_count": 15,
   "id": "7b780311",
   "metadata": {},
   "outputs": [],
   "source": [
    "from sagemaker.estimator import Estimator"
   ]
  },
  {
   "cell_type": "code",
   "execution_count": 16,
   "id": "f7fa4286",
   "metadata": {},
   "outputs": [],
   "source": [
    "model_artifacts_location = f\"s3://{bucket}/{prefix}/artifacts\"\n",
    "mnist_estimator = Estimator(\n",
    "    entry_point=\"train.py\",\n",
    "    role=role,\n",
    "    output_path=model_artifacts_location,\n",
    "    instance_count=1,\n",
    "    instance_type=\"local_gpu\",\n",
    "    image_uri=image_uri,\n",
    "    volume_size=200\n",
    ")"
   ]
  },
  {
   "cell_type": "code",
   "execution_count": null,
   "id": "ca4daa01",
   "metadata": {},
   "outputs": [],
   "source": [
    "mnist_estimator.fit({\"training\": data_uri})"
   ]
  },
  {
   "cell_type": "markdown",
   "id": "e4d3f2e7",
   "metadata": {},
   "source": [
    "## Batch Inference"
   ]
  },
  {
   "cell_type": "code",
   "execution_count": null,
   "id": "8891d91b",
   "metadata": {},
   "outputs": [],
   "source": [
    "from sagemaker.processing import FrameworkProcessor\n",
    "from sagemaker.processing import ProcessingInput, ProcessingOutput\n",
    "from sagemaker.utils import name_from_base\n",
    "from sagemaker.sklearn.estimator import SKLearn"
   ]
  },
  {
   "cell_type": "code",
   "execution_count": null,
   "id": "3fbe230f",
   "metadata": {},
   "outputs": [],
   "source": [
    "est_cls = SKLearn\n",
    "framework_version_str=\"0.23-1\"\n",
    "\n",
    "base_job_name = 'multimodel-inference'\n",
    "mm_processor = FrameworkProcessor(\n",
    "    estimator_cls=est_cls,\n",
    "    image_uri=image_uri,\n",
    "    framework_version=framework_version_str,\n",
    "    role=role,\n",
    "    instance_type=\"local\",\n",
    "    instance_count=1, \n",
    "    base_job_name=base_job_name,\n",
    ")\n",
    "processing_job_name = name_from_base(base_job_name)"
   ]
  },
  {
   "cell_type": "code",
   "execution_count": null,
   "id": "e0654de1",
   "metadata": {},
   "outputs": [],
   "source": [
    "mm_processor.run(\n",
    "    code='processing_script.py',\n",
    "    source_dir='processing_src',\n",
    "    arguments = [\n",
    "                 '--base_dir', '/opt/ml/processing',\n",
    "                ],\n",
    "    inputs=[\n",
    "        ProcessingInput(\n",
    "            source=f\"{data_uri}/test.csv\",\n",
    "            destination=\"/opt/ml/processing/input/test\",\n",
    "            s3_data_distribution_type=\"FullyReplicated\",\n",
    "        ),\n",
    "        ProcessingInput(\n",
    "            source=f\"{data_uri}/images\",\n",
    "            destination=\"/opt/ml/processing/input/test/images\",\n",
    "            s3_data_distribution_type=\"FullyReplicated\",\n",
    "        ),\n",
    "        ProcessingInput(\n",
    "            source=model_data,\n",
    "            destination=\"/opt/ml/processing/input/model\",\n",
    "            s3_data_distribution_type=\"FullyReplicated\",\n",
    "        ),\n",
    "    ],\n",
    "    outputs=[\n",
    "        ProcessingOutput(output_name=\"inference_result\", source=\"/opt/ml/processing/output/inference_result\", destination=\"inference_result\")\n",
    "    ],\n",
    "    job_name=processing_job_name,\n",
    "\n",
    ")"
   ]
  },
  {
   "cell_type": "code",
   "execution_count": null,
   "id": "d95c2423",
   "metadata": {},
   "outputs": [],
   "source": [
    "results_s3_path = f\"s3://{bucket}/{processing_job_name}/output/inference_result\"\n",
    "S3Downloader.download(s3_uri=results_s3_path, local_path='./',sagemaker_session=sagemaker_session)"
   ]
  },
  {
   "cell_type": "code",
   "execution_count": null,
   "id": "74a3027d",
   "metadata": {},
   "outputs": [],
   "source": [
    "# generate classification report\n",
    "from sklearn import metrics\n",
    "y_pred_class=pd.read_json('result.json',typ='series')\n",
    "y_test = test_data['AdoptionSpeed']\n",
    "print(metrics.classification_report(y_test, y_pred_class))"
   ]
  },
  {
   "cell_type": "markdown",
   "id": "99d9f4a4",
   "metadata": {},
   "source": [
    "## Real-time Inference (COMMING SOON)"
   ]
  },
  {
   "cell_type": "code",
   "execution_count": 50,
   "id": "e2ebd5c5",
   "metadata": {},
   "outputs": [],
   "source": [
    "# inference_image_uri = image_uris.retrieve(\n",
    "#             \"autogluon\",\n",
    "#             region=region,\n",
    "#             version=\"0.5\",\n",
    "#             py_version=\"py38\",\n",
    "#             image_scope=\"inference\",\n",
    "#             instance_type=\"local\",\n",
    "#         )"
   ]
  },
  {
   "cell_type": "code",
   "execution_count": 51,
   "id": "89776c16",
   "metadata": {},
   "outputs": [],
   "source": [
    "# from sagemaker.model import Model"
   ]
  },
  {
   "cell_type": "code",
   "execution_count": 52,
   "id": "e3b6b309",
   "metadata": {},
   "outputs": [],
   "source": [
    "# trained_model_artifacts_location = mnist_estimator.model_data"
   ]
  },
  {
   "cell_type": "code",
   "execution_count": 58,
   "id": "c2a76e63",
   "metadata": {},
   "outputs": [],
   "source": [
    "# from sagemaker import LocalSession\n",
    "\n",
    "# mm_inference_estimator = Model(\n",
    "#     entry_point=\"inference.py\",\n",
    "#     source_dir = \"endpoint_src\",\n",
    "#     role=role,\n",
    "#     model_data=trained_model_artifacts_location,\n",
    "#     image_uri=inference_image_uri,\n",
    "#     sagemaker_session=LocalSession()\n",
    "# )"
   ]
  },
  {
   "cell_type": "code",
   "execution_count": null,
   "id": "e9157c04",
   "metadata": {},
   "outputs": [],
   "source": [
    "predictor = mm_inference_estimator.deploy(initial_instance_count=1, instance_type=\"local\", endpoint_name=\"mm-ag-model\", wait=True)"
   ]
  },
  {
   "cell_type": "code",
   "execution_count": 60,
   "id": "5f7730e2",
   "metadata": {},
   "outputs": [],
   "source": [
    "from sagemaker.predictor import Predictor\n",
    "from sagemaker.deserializers import JSONDeserializer\n",
    "from sagemaker.serializers import NumpySerializer, JSONSerializer\n",
    "from sagemaker import LocalSession\n",
    "\n",
    "\n",
    "#TODO: FIX REAL SERIALIZATION\n",
    "predictor = Predictor(endpoint_name=\"mm-ag-model\",\n",
    "                          sagemaker_session=LocalSession(),\n",
    "                          serializer=sagemaker.serializers.JSONSerializer(),\n",
    "                          deserializer=sagemaker.deserializers.JSONDeserializer()\n",
    "                     )"
   ]
  },
  {
   "cell_type": "code",
   "execution_count": null,
   "id": "c69d07d1",
   "metadata": {},
   "outputs": [],
   "source": [
    "# invocation placeholder"
   ]
  },
  {
   "cell_type": "code",
   "execution_count": 62,
   "id": "94a591a6",
   "metadata": {},
   "outputs": [
    {
     "name": "stdout",
     "output_type": "stream",
     "text": [
      "Gracefully stopping... (press Ctrl+C again to force)\n"
     ]
    }
   ],
   "source": [
    "predictor.delete_endpoint()"
   ]
  },
  {
   "cell_type": "code",
   "execution_count": null,
   "id": "13ce0a05",
   "metadata": {},
   "outputs": [],
   "source": []
  }
 ],
 "metadata": {
  "kernelspec": {
   "display_name": "conda_mxnet_p37",
   "language": "python",
   "name": "conda_mxnet_p37"
  },
  "language_info": {
   "codemirror_mode": {
    "name": "ipython",
    "version": 3
   },
   "file_extension": ".py",
   "mimetype": "text/x-python",
   "name": "python",
   "nbconvert_exporter": "python",
   "pygments_lexer": "ipython3",
   "version": "3.7.10"
  },
  "toc-autonumbering": true,
  "toc-showcode": false,
  "toc-showmarkdowntxt": false
 },
 "nbformat": 4,
 "nbformat_minor": 5
}

{
 "cells": [
  {
   "cell_type": "markdown",
   "id": "a9327806",
   "metadata": {},
   "source": [
    "# Text and images: Getting Started with Multimodal on Sagemaker\n",
    "Information in the real world usually comes as different sensory input/output channels, like: images that can be associated with text explanations; or text that contains images to more clearly express the main idea of the article. \n",
    "*Multimodal learning* is a good model to represent the joint representations of different modalities.\n",
    "In this talk  we would provide a gentle introduction to Multimodal learning and would train and deploy a multimodal predictor based on natural language text, images and tabular data using SageMaker and AutoGloun.\n",
    "\n",
    "We will train a model that takes pet NLP descriptions, images and tabular features to predict how fast (category) they will get adopted.\n"
   ]
  },
  {
   "cell_type": "markdown",
   "id": "770667de",
   "metadata": {},
   "source": [
    "## Step 1: Install libraries and prepare environment \n",
    "! Important: this workshop was tested on ml.g4dn.8xlarge, 200 GB (!!!), conda_mxnet_p37 kernel "
   ]
  },
  {
   "cell_type": "markdown",
   "id": "090c998c",
   "metadata": {},
   "source": [
    "Because 'llvmlite' is a distutils installed project, pip is not able to remove it. \n",
    "Let's remove it manually."
   ]
  },
  {
   "cell_type": "code",
   "execution_count": null,
   "id": "eb39b117",
   "metadata": {},
   "outputs": [],
   "source": [
    "%%time \n",
    "!find /home/ec2-user/anaconda3 -type f -name '*llvmlite*.egg-info' -delete"
   ]
  },
  {
   "cell_type": "markdown",
   "id": "697790b4",
   "metadata": {},
   "source": [
    "Next, we'll upgrade pip amd install autogluon lib."
   ]
  },
  {
   "cell_type": "code",
   "execution_count": null,
   "id": "35f84387",
   "metadata": {},
   "outputs": [],
   "source": [
    "%pip install -U pip\n",
    "%pip install -U setuptools wheel\n",
    "%pip install -U mxnet<2.0.0\n",
    "%pip install autogluon --ignore-installed\n",
    "%pip install -U sagemaker"
   ]
  },
  {
   "cell_type": "markdown",
   "id": "56a91208",
   "metadata": {},
   "source": [
    "To ensure we can run local mode, increase the conda memory to 95%."
   ]
  },
  {
   "cell_type": "code",
   "execution_count": 4,
   "id": "cdfddf79",
   "metadata": {},
   "outputs": [],
   "source": [
    "!cp -f image.py /home/ec2-user/anaconda3/envs/mxnet_p37/lib/python3.7/site-packages/sagemaker/local/image.py"
   ]
  },
  {
   "cell_type": "code",
   "execution_count": null,
   "id": "1bd9fac3",
   "metadata": {},
   "outputs": [],
   "source": [
    "# only run the below cells when you are using sagemaker notebook instances\n",
    "!bash ./prepare-docker.sh"
   ]
  },
  {
   "cell_type": "code",
   "execution_count": null,
   "id": "89ef2880",
   "metadata": {},
   "outputs": [],
   "source": [
    "!wget -q https://raw.githubusercontent.com/aws-samples/amazon-sagemaker-script-mode/master/local_mode_setup.sh\n",
    "!/bin/bash ./local_mode_setup.sh"
   ]
  },
  {
   "cell_type": "markdown",
   "id": "968e1b0d",
   "metadata": {},
   "source": [
    "Restart the kernel"
   ]
  },
  {
   "cell_type": "code",
   "execution_count": null,
   "id": "b8075c1d",
   "metadata": {},
   "outputs": [],
   "source": [
    "import IPython\n",
    "\n",
    "IPython.Application.instance().kernel.do_shutdown(True) #automatically restarts kernel"
   ]
  },
  {
   "cell_type": "markdown",
   "id": "40a2468e",
   "metadata": {},
   "source": [
    "## Step 2: Download and explore data"
   ]
  },
  {
   "cell_type": "code",
   "execution_count": 1,
   "id": "d52c52df",
   "metadata": {},
   "outputs": [],
   "source": [
    "import sagemaker\n",
    "import os\n",
    "import subprocess\n",
    "from sagemaker.mxnet import MXNet\n",
    "from autogluon.core.utils.loaders import load_zip\n",
    "from sagemaker.s3 import S3Uploader, s3_path_join\n",
    "\n",
    "sagemaker_session = sagemaker.Session()\n",
    "\n",
    "bucket = sagemaker_session.default_bucket()\n",
    "prefix = \"sagemaker/DEMO-autogluon-text-image-multimodel\"\n",
    "region = sagemaker_session.boto_region_name\n",
    "account_id = sagemaker_session.account_id()\n",
    "role = sagemaker.get_execution_role()"
   ]
  },
  {
   "cell_type": "code",
   "execution_count": 2,
   "id": "e0133408",
   "metadata": {},
   "outputs": [],
   "source": [
    "download_dir = './ag_automm_tutorial'\n",
    "zip_file = 'https://automl-mm-bench.s3.amazonaws.com/petfinder_for_tutorial.zip'"
   ]
  },
  {
   "cell_type": "code",
   "execution_count": null,
   "id": "c8526416",
   "metadata": {},
   "outputs": [],
   "source": [
    "%%time\n",
    "load_zip.unzip(zip_file, unzip_dir=download_dir)"
   ]
  },
  {
   "cell_type": "markdown",
   "id": "15973dc2",
   "metadata": {},
   "source": [
    "Explore the data"
   ]
  },
  {
   "cell_type": "code",
   "execution_count": 4,
   "id": "8c9c88d0",
   "metadata": {},
   "outputs": [],
   "source": [
    "import pandas as pd\n",
    "dataset_path = download_dir + '/petfinder_for_tutorial'\n",
    "train_data = pd.read_csv(f'{dataset_path}/train.csv', index_col=0)\n",
    "test_data = pd.read_csv(f'{dataset_path}/test.csv', index_col=0)\n",
    "label_col = 'AdoptionSpeed'"
   ]
  },
  {
   "cell_type": "code",
   "execution_count": 5,
   "id": "0d04b398",
   "metadata": {},
   "outputs": [
    {
     "data": {
      "text/plain": [
       "'/home/ec2-user/SageMaker/sagemaker-multimodal-workshop/ag_automm_tutorial/petfinder_for_tutorial/images/7d7a39d71-1.jpg'"
      ]
     },
     "execution_count": 5,
     "metadata": {},
     "output_type": "execute_result"
    }
   ],
   "source": [
    "image_col = 'Images'\n",
    "train_data[image_col] = train_data[image_col].apply(lambda ele: ele.split(';')[0]) # Use the first image for a quick tutorial\n",
    "test_data[image_col] = test_data[image_col].apply(lambda ele: ele.split(';')[0])\n",
    "\n",
    "\n",
    "def path_expander(path, base_folder):\n",
    "    path_l = path.split(';')\n",
    "    return ';'.join([os.path.abspath(os.path.join(base_folder, path)) for path in path_l])\n",
    "\n",
    "train_data[image_col] = train_data[image_col].apply(lambda ele: path_expander(ele, base_folder=dataset_path))\n",
    "test_data[image_col] = test_data[image_col].apply(lambda ele: path_expander(ele, base_folder=dataset_path))\n",
    "\n",
    "train_data[image_col].iloc[0]"
   ]
  },
  {
   "cell_type": "code",
   "execution_count": null,
   "id": "7658fc25",
   "metadata": {},
   "outputs": [],
   "source": [
    "train_data['AdoptionSpeed'].hist()"
   ]
  },
  {
   "cell_type": "code",
   "execution_count": null,
   "id": "ccdccaeb",
   "metadata": {},
   "outputs": [],
   "source": [
    "train_data.hist(figsize=(20,20))"
   ]
  },
  {
   "cell_type": "code",
   "execution_count": 8,
   "id": "28d216f6",
   "metadata": {},
   "outputs": [
    {
     "data": {
      "text/plain": [
       "Type                                                             2\n",
       "Name                                                 Yumi Hamasaki\n",
       "Age                                                              4\n",
       "Breed1                                                         292\n",
       "Breed2                                                         265\n",
       "Gender                                                           2\n",
       "Color1                                                           1\n",
       "Color2                                                           5\n",
       "Color3                                                           7\n",
       "MaturitySize                                                     2\n",
       "FurLength                                                        2\n",
       "Vaccinated                                                       1\n",
       "Dewormed                                                         3\n",
       "Sterilized                                                       2\n",
       "Health                                                           1\n",
       "Quantity                                                         1\n",
       "Fee                                                              0\n",
       "State                                                        41326\n",
       "RescuerID                         bcc4e1b9557a8b3aaf545ea8e6e86991\n",
       "VideoAmt                                                         0\n",
       "Description      I rescued Yumi Hamasaki at a food stall far aw...\n",
       "PetID                                                    7d7a39d71\n",
       "PhotoAmt                                                       3.0\n",
       "AdoptionSpeed                                                    0\n",
       "Images           /home/ec2-user/SageMaker/sagemaker-multimodal-...\n",
       "Name: 0, dtype: object"
      ]
     },
     "execution_count": 8,
     "metadata": {},
     "output_type": "execute_result"
    }
   ],
   "source": [
    "example_row = train_data.iloc[0]\n",
    "\n",
    "example_row"
   ]
  },
  {
   "cell_type": "code",
   "execution_count": 9,
   "id": "37144dc7",
   "metadata": {},
   "outputs": [
    {
     "data": {
      "text/plain": [
       "\"I rescued Yumi Hamasaki at a food stall far away in Kelantan. At that time i was on my way back to KL, she was suffer from stomach problem and looking very2 sick.. I send her to vet & get the treatment + vaccinated and right now she's very2 healthy.. About yumi : - love to sleep with ppl - she will keep on meowing if she's hugry - very2 active, always seeking for people to accompany her playing - well trained (poo+pee in her own potty) - easy to bathing - I only feed her with these brands : IAMS, Kittenbites, Pro-formance Reason why i need someone to adopt Yumi: I just married and need to move to a new house where no pets are allowed :( As Yumi is very2 special to me, i will only give her to ppl that i think could take care of her just like i did (especially on her foods things)..\""
      ]
     },
     "execution_count": 9,
     "metadata": {},
     "output_type": "execute_result"
    }
   ],
   "source": [
    "example_row['Description']\n"
   ]
  },
  {
   "cell_type": "code",
   "execution_count": 10,
   "id": "3e548adb",
   "metadata": {},
   "outputs": [
    {
     "data": {
      "image/jpeg": "[encoded data removed]",
      "text/plain": [
       "<IPython.core.display.Image object>"
      ]
     },
     "metadata": {},
     "output_type": "display_data"
    }
   ],
   "source": [
    "example_image = example_row[image_col]\n",
    "\n",
    "from IPython.display import Image, display\n",
    "pil_img = Image(filename=example_image)\n",
    "display(pil_img)"
   ]
  },
  {
   "cell_type": "markdown",
   "id": "d7200524",
   "metadata": {},
   "source": [
    "Upload to s3"
   ]
  },
  {
   "cell_type": "code",
   "execution_count": 11,
   "id": "229f77d1",
   "metadata": {},
   "outputs": [
    {
     "name": "stdout",
     "output_type": "stream",
     "text": [
      "Uploading data to s3://sagemaker-eu-west-2-327838496401/sagemaker/DEMO-autogluon-text-image-multimodel/data\n"
     ]
    }
   ],
   "source": [
    "s3_data_path = s3_path_join(\"s3://\", bucket, f\"{prefix}/data\")\n",
    "dataset_path = download_dir + '/petfinder_for_tutorial'\n",
    "print(f\"Uploading data to {s3_data_path}\")\n",
    "data_uri = S3Uploader.upload(dataset_path, s3_data_path)"
   ]
  },
  {
   "cell_type": "markdown",
   "id": "b3b5e3a3",
   "metadata": {},
   "source": [
    "## Train the model"
   ]
  },
  {
   "cell_type": "code",
   "execution_count": 12,
   "id": "0ee37f10",
   "metadata": {},
   "outputs": [
    {
     "name": "stdout",
     "output_type": "stream",
     "text": [
      "Instance type = local_gpu\n"
     ]
    }
   ],
   "source": [
    "instance_type = \"local\"\n",
    "\n",
    "try:\n",
    "    if subprocess.call(\"nvidia-smi\") == 0:\n",
    "        ## Set type to GPU if one is present\n",
    "        instance_type = \"local_gpu\"\n",
    "except:\n",
    "    pass\n",
    "\n",
    "print(\"Instance type = \" + instance_type)"
   ]
  },
  {
   "cell_type": "code",
   "execution_count": 13,
   "id": "734d55e8",
   "metadata": {},
   "outputs": [],
   "source": [
    "from sagemaker import image_uris"
   ]
  },
  {
   "cell_type": "code",
   "execution_count": 14,
   "id": "ff7de2b2",
   "metadata": {},
   "outputs": [],
   "source": [
    "image_uri = image_uris.retrieve(\n",
    "            \"autogluon\",\n",
    "            region=region,\n",
    "            version=\"0.5\",\n",
    "            py_version=\"py38\",\n",
    "            image_scope=\"training\",\n",
    "            instance_type=\"local_gpu\",\n",
    "        )"
   ]
  },
  {
   "cell_type": "code",
   "execution_count": 15,
   "id": "54185578",
   "metadata": {},
   "outputs": [],
   "source": [
    "from sagemaker.estimator import Estimator"
   ]
  },
  {
   "cell_type": "code",
   "execution_count": 16,
   "id": "bedeb461",
   "metadata": {},
   "outputs": [],
   "source": [
    "model_artifacts_location = f\"s3://{bucket}/{prefix}/artifacts\"\n",
    "mnist_estimator = Estimator(\n",
    "    entry_point=\"train.py\",\n",
    "    role=role,\n",
    "    output_path=model_artifacts_location,\n",
    "    instance_count=1,\n",
    "    instance_type=\"local_gpu\",\n",
    "    image_uri=image_uri,\n",
    "    volume_size=200\n",
    ")"
   ]
  },
  {
   "cell_type": "code",
   "execution_count": null,
   "id": "fa4f05e7",
   "metadata": {},
   "outputs": [
    {
     "name": "stdout",
     "output_type": "stream",
     "text": [
      "Creating o9nbfh44op-algo-1-jf408 ... \n",
      "Creating o9nbfh44op-algo-1-jf408 ... done\n",
      "Attaching to o9nbfh44op-algo-1-jf408\n",
      "\u001b[36mo9nbfh44op-algo-1-jf408 |\u001b[0m 2022-09-13 14:02:56,281 sagemaker-training-toolkit INFO     Imported framework sagemaker_mxnet_container.training\n",
      "\u001b[36mo9nbfh44op-algo-1-jf408 |\u001b[0m 2022-09-13 14:02:56,307 sagemaker-training-toolkit INFO     instance_groups entry not present in resource_config\n",
      "\u001b[36mo9nbfh44op-algo-1-jf408 |\u001b[0m 2022-09-13 14:02:56,308 sagemaker_mxnet_container.training INFO     MXNet training environment: {'SM_HOSTS': '[\"algo-1-jf408\"]', 'SM_NETWORK_INTERFACE_NAME': 'eth0', 'SM_HPS': '{}', 'SM_USER_ENTRY_POINT': 'train.py', 'SM_FRAMEWORK_PARAMS': '{}', 'SM_RESOURCE_CONFIG': '{\"current_host\":\"algo-1-jf408\",\"hosts\":[\"algo-1-jf408\"]}', 'SM_INPUT_DATA_CONFIG': '{\"training\":{\"TrainingInputMode\":\"File\"}}', 'SM_OUTPUT_DATA_DIR': '/opt/ml/output/data', 'SM_CHANNELS': '[\"training\"]', 'SM_CURRENT_HOST': 'algo-1-jf408', 'SM_CURRENT_INSTANCE_TYPE': 'local', 'SM_CURRENT_INSTANCE_GROUP': 'homogeneousCluster', 'SM_CURRENT_INSTANCE_GROUP_HOSTS': '[]', 'SM_INSTANCE_GROUPS': '[]', 'SM_INSTANCE_GROUPS_DICT': '{}', 'SM_DISTRIBUTION_INSTANCE_GROUPS': '[]', 'SM_IS_HETERO': 'false', 'SM_MODULE_NAME': 'train', 'SM_LOG_LEVEL': '20', 'SM_FRAMEWORK_MODULE': 'sagemaker_mxnet_container.training:main', 'SM_INPUT_DIR': '/opt/ml/input', 'SM_INPUT_CONFIG_DIR': '/opt/ml/input/config', 'SM_OUTPUT_DIR': '/opt/ml/output', 'SM_NUM_CPUS': '32', 'SM_NUM_GPUS': '1', 'SM_MODEL_DIR': '/opt/ml/model', 'SM_MODULE_DIR': 's3://sagemaker-eu-west-2-327838496401/autogluon-training-2022-09-13-13-58-28-388/source/sourcedir.tar.gz', 'SM_TRAINING_ENV': '{\"additional_framework_parameters\":{},\"channel_input_dirs\":{\"training\":\"/opt/ml/input/data/training\"},\"current_host\":\"algo-1-jf408\",\"current_instance_group\":\"homogeneousCluster\",\"current_instance_group_hosts\":[],\"current_instance_type\":\"local\",\"distribution_hosts\":[\"algo-1-jf408\"],\"distribution_instance_groups\":[],\"framework_module\":\"sagemaker_mxnet_container.training:main\",\"hosts\":[\"algo-1-jf408\"],\"hyperparameters\":{},\"input_config_dir\":\"/opt/ml/input/config\",\"input_data_config\":{\"training\":{\"TrainingInputMode\":\"File\"}},\"input_dir\":\"/opt/ml/input\",\"instance_groups\":[],\"instance_groups_dict\":{},\"is_hetero\":false,\"is_master\":true,\"is_modelparallel_enabled\":null,\"job_name\":\"autogluon-training-2022-09-13-13-58-28-388\",\"log_level\":20,\"master_hostname\":\"algo-1-jf408\",\"model_dir\":\"/opt/ml/model\",\"module_dir\":\"s3://sagemaker-eu-west-2-327838496401/autogluon-training-2022-09-13-13-58-28-388/source/sourcedir.tar.gz\",\"module_name\":\"train\",\"network_interface_name\":\"eth0\",\"num_cpus\":32,\"num_gpus\":1,\"output_data_dir\":\"/opt/ml/output/data\",\"output_dir\":\"/opt/ml/output\",\"output_intermediate_dir\":\"/opt/ml/output/intermediate\",\"resource_config\":{\"current_host\":\"algo-1-jf408\",\"hosts\":[\"algo-1-jf408\"]},\"user_entry_point\":\"train.py\"}', 'SM_USER_ARGS': '[]', 'SM_OUTPUT_INTERMEDIATE_DIR': '/opt/ml/output/intermediate', 'SM_CHANNEL_TRAINING': '/opt/ml/input/data/training'}\n",
      "\u001b[36mo9nbfh44op-algo-1-jf408 |\u001b[0m 2022-09-13 14:02:56,513 sagemaker-training-toolkit INFO     instance_groups entry not present in resource_config\n",
      "\u001b[36mo9nbfh44op-algo-1-jf408 |\u001b[0m 2022-09-13 14:02:56,541 sagemaker-training-toolkit INFO     instance_groups entry not present in resource_config\n",
      "\u001b[36mo9nbfh44op-algo-1-jf408 |\u001b[0m 2022-09-13 14:02:56,568 sagemaker-training-toolkit INFO     instance_groups entry not present in resource_config\n",
      "\u001b[36mo9nbfh44op-algo-1-jf408 |\u001b[0m 2022-09-13 14:02:56,569 sagemaker-training-toolkit INFO     Invoking user script\n",
      "\u001b[36mo9nbfh44op-algo-1-jf408 |\u001b[0m \n",
      "\u001b[36mo9nbfh44op-algo-1-jf408 |\u001b[0m Training Env:\n",
      "\u001b[36mo9nbfh44op-algo-1-jf408 |\u001b[0m \n",
      "\u001b[36mo9nbfh44op-algo-1-jf408 |\u001b[0m {\n",
      "\u001b[36mo9nbfh44op-algo-1-jf408 |\u001b[0m     \"additional_framework_parameters\": {},\n",
      "\u001b[36mo9nbfh44op-algo-1-jf408 |\u001b[0m     \"channel_input_dirs\": {\n",
      "\u001b[36mo9nbfh44op-algo-1-jf408 |\u001b[0m         \"training\": \"/opt/ml/input/data/training\"\n",
      "\u001b[36mo9nbfh44op-algo-1-jf408 |\u001b[0m     },\n",
      "\u001b[36mo9nbfh44op-algo-1-jf408 |\u001b[0m     \"current_host\": \"algo-1-jf408\",\n",
      "\u001b[36mo9nbfh44op-algo-1-jf408 |\u001b[0m     \"current_instance_group\": \"homogeneousCluster\",\n",
      "\u001b[36mo9nbfh44op-algo-1-jf408 |\u001b[0m     \"current_instance_group_hosts\": [],\n",
      "\u001b[36mo9nbfh44op-algo-1-jf408 |\u001b[0m     \"current_instance_type\": \"local\",\n",
      "\u001b[36mo9nbfh44op-algo-1-jf408 |\u001b[0m     \"distribution_hosts\": [\n",
      "\u001b[36mo9nbfh44op-algo-1-jf408 |\u001b[0m         \"algo-1-jf408\"\n",
      "\u001b[36mo9nbfh44op-algo-1-jf408 |\u001b[0m     ],\n",
      "\u001b[36mo9nbfh44op-algo-1-jf408 |\u001b[0m     \"distribution_instance_groups\": [],\n",
      "\u001b[36mo9nbfh44op-algo-1-jf408 |\u001b[0m     \"framework_module\": \"sagemaker_mxnet_container.training:main\",\n",
      "\u001b[36mo9nbfh44op-algo-1-jf408 |\u001b[0m     \"hosts\": [\n",
      "\u001b[36mo9nbfh44op-algo-1-jf408 |\u001b[0m         \"algo-1-jf408\"\n",
      "\u001b[36mo9nbfh44op-algo-1-jf408 |\u001b[0m     ],\n",
      "\u001b[36mo9nbfh44op-algo-1-jf408 |\u001b[0m     \"hyperparameters\": {},\n",
      "\u001b[36mo9nbfh44op-algo-1-jf408 |\u001b[0m     \"input_config_dir\": \"/opt/ml/input/config\",\n",
      "\u001b[36mo9nbfh44op-algo-1-jf408 |\u001b[0m     \"input_data_config\": {\n",
      "\u001b[36mo9nbfh44op-algo-1-jf408 |\u001b[0m         \"training\": {\n",
      "\u001b[36mo9nbfh44op-algo-1-jf408 |\u001b[0m             \"TrainingInputMode\": \"File\"\n",
      "\u001b[36mo9nbfh44op-algo-1-jf408 |\u001b[0m         }\n",
      "\u001b[36mo9nbfh44op-algo-1-jf408 |\u001b[0m     },\n",
      "\u001b[36mo9nbfh44op-algo-1-jf408 |\u001b[0m     \"input_dir\": \"/opt/ml/input\",\n",
      "\u001b[36mo9nbfh44op-algo-1-jf408 |\u001b[0m     \"instance_groups\": [],\n",
      "\u001b[36mo9nbfh44op-algo-1-jf408 |\u001b[0m     \"instance_groups_dict\": {},\n",
      "\u001b[36mo9nbfh44op-algo-1-jf408 |\u001b[0m     \"is_hetero\": false,\n",
      "\u001b[36mo9nbfh44op-algo-1-jf408 |\u001b[0m     \"is_master\": true,\n",
      "\u001b[36mo9nbfh44op-algo-1-jf408 |\u001b[0m     \"is_modelparallel_enabled\": null,\n",
      "\u001b[36mo9nbfh44op-algo-1-jf408 |\u001b[0m     \"job_name\": \"autogluon-training-2022-09-13-13-58-28-388\",\n",
      "\u001b[36mo9nbfh44op-algo-1-jf408 |\u001b[0m     \"log_level\": 20,\n",
      "\u001b[36mo9nbfh44op-algo-1-jf408 |\u001b[0m     \"master_hostname\": \"algo-1-jf408\",\n",
      "\u001b[36mo9nbfh44op-algo-1-jf408 |\u001b[0m     \"model_dir\": \"/opt/ml/model\",\n",
      "\u001b[36mo9nbfh44op-algo-1-jf408 |\u001b[0m     \"module_dir\": \"s3://sagemaker-eu-west-2-327838496401/autogluon-training-2022-09-13-13-58-28-388/source/sourcedir.tar.gz\",\n",
      "\u001b[36mo9nbfh44op-algo-1-jf408 |\u001b[0m     \"module_name\": \"train\",\n",
      "\u001b[36mo9nbfh44op-algo-1-jf408 |\u001b[0m     \"network_interface_name\": \"eth0\",\n",
      "\u001b[36mo9nbfh44op-algo-1-jf408 |\u001b[0m     \"num_cpus\": 32,\n",
      "\u001b[36mo9nbfh44op-algo-1-jf408 |\u001b[0m     \"num_gpus\": 1,\n",
      "\u001b[36mo9nbfh44op-algo-1-jf408 |\u001b[0m     \"output_data_dir\": \"/opt/ml/output/data\",\n",
      "\u001b[36mo9nbfh44op-algo-1-jf408 |\u001b[0m     \"output_dir\": \"/opt/ml/output\",\n",
      "\u001b[36mo9nbfh44op-algo-1-jf408 |\u001b[0m     \"output_intermediate_dir\": \"/opt/ml/output/intermediate\",\n",
      "\u001b[36mo9nbfh44op-algo-1-jf408 |\u001b[0m     \"resource_config\": {\n",
      "\u001b[36mo9nbfh44op-algo-1-jf408 |\u001b[0m         \"current_host\": \"algo-1-jf408\",\n",
      "\u001b[36mo9nbfh44op-algo-1-jf408 |\u001b[0m         \"hosts\": [\n",
      "\u001b[36mo9nbfh44op-algo-1-jf408 |\u001b[0m             \"algo-1-jf408\"\n",
      "\u001b[36mo9nbfh44op-algo-1-jf408 |\u001b[0m         ]\n",
      "\u001b[36mo9nbfh44op-algo-1-jf408 |\u001b[0m     },\n",
      "\u001b[36mo9nbfh44op-algo-1-jf408 |\u001b[0m     \"user_entry_point\": \"train.py\"\n",
      "\u001b[36mo9nbfh44op-algo-1-jf408 |\u001b[0m }\n",
      "\u001b[36mo9nbfh44op-algo-1-jf408 |\u001b[0m \n",
      "\u001b[36mo9nbfh44op-algo-1-jf408 |\u001b[0m Environment variables:\n",
      "\u001b[36mo9nbfh44op-algo-1-jf408 |\u001b[0m \n",
      "\u001b[36mo9nbfh44op-algo-1-jf408 |\u001b[0m SM_HOSTS=[\"algo-1-jf408\"]\n",
      "\u001b[36mo9nbfh44op-algo-1-jf408 |\u001b[0m SM_NETWORK_INTERFACE_NAME=eth0\n",
      "\u001b[36mo9nbfh44op-algo-1-jf408 |\u001b[0m SM_HPS={}\n",
      "\u001b[36mo9nbfh44op-algo-1-jf408 |\u001b[0m SM_USER_ENTRY_POINT=train.py\n",
      "\u001b[36mo9nbfh44op-algo-1-jf408 |\u001b[0m SM_FRAMEWORK_PARAMS={}\n",
      "\u001b[36mo9nbfh44op-algo-1-jf408 |\u001b[0m SM_RESOURCE_CONFIG={\"current_host\":\"algo-1-jf408\",\"hosts\":[\"algo-1-jf408\"]}\n",
      "\u001b[36mo9nbfh44op-algo-1-jf408 |\u001b[0m SM_INPUT_DATA_CONFIG={\"training\":{\"TrainingInputMode\":\"File\"}}\n",
      "\u001b[36mo9nbfh44op-algo-1-jf408 |\u001b[0m SM_OUTPUT_DATA_DIR=/opt/ml/output/data\n",
      "\u001b[36mo9nbfh44op-algo-1-jf408 |\u001b[0m SM_CHANNELS=[\"training\"]\n",
      "\u001b[36mo9nbfh44op-algo-1-jf408 |\u001b[0m SM_CURRENT_HOST=algo-1-jf408\n",
      "\u001b[36mo9nbfh44op-algo-1-jf408 |\u001b[0m SM_CURRENT_INSTANCE_TYPE=local\n",
      "\u001b[36mo9nbfh44op-algo-1-jf408 |\u001b[0m SM_CURRENT_INSTANCE_GROUP=homogeneousCluster\n",
      "\u001b[36mo9nbfh44op-algo-1-jf408 |\u001b[0m SM_CURRENT_INSTANCE_GROUP_HOSTS=[]\n",
      "\u001b[36mo9nbfh44op-algo-1-jf408 |\u001b[0m SM_INSTANCE_GROUPS=[]\n",
      "\u001b[36mo9nbfh44op-algo-1-jf408 |\u001b[0m SM_INSTANCE_GROUPS_DICT={}\n",
      "\u001b[36mo9nbfh44op-algo-1-jf408 |\u001b[0m SM_DISTRIBUTION_INSTANCE_GROUPS=[]\n",
      "\u001b[36mo9nbfh44op-algo-1-jf408 |\u001b[0m SM_IS_HETERO=false\n",
      "\u001b[36mo9nbfh44op-algo-1-jf408 |\u001b[0m SM_MODULE_NAME=train\n",
      "\u001b[36mo9nbfh44op-algo-1-jf408 |\u001b[0m SM_LOG_LEVEL=20\n",
      "\u001b[36mo9nbfh44op-algo-1-jf408 |\u001b[0m SM_FRAMEWORK_MODULE=sagemaker_mxnet_container.training:main\n",
      "\u001b[36mo9nbfh44op-algo-1-jf408 |\u001b[0m SM_INPUT_DIR=/opt/ml/input\n",
      "\u001b[36mo9nbfh44op-algo-1-jf408 |\u001b[0m SM_INPUT_CONFIG_DIR=/opt/ml/input/config\n",
      "\u001b[36mo9nbfh44op-algo-1-jf408 |\u001b[0m SM_OUTPUT_DIR=/opt/ml/output\n",
      "\u001b[36mo9nbfh44op-algo-1-jf408 |\u001b[0m SM_NUM_CPUS=32\n",
      "\u001b[36mo9nbfh44op-algo-1-jf408 |\u001b[0m SM_NUM_GPUS=1\n",
      "\u001b[36mo9nbfh44op-algo-1-jf408 |\u001b[0m SM_MODEL_DIR=/opt/ml/model\n",
      "\u001b[36mo9nbfh44op-algo-1-jf408 |\u001b[0m SM_MODULE_DIR=s3://sagemaker-eu-west-2-327838496401/autogluon-training-2022-09-13-13-58-28-388/source/sourcedir.tar.gz\n",
      "\u001b[36mo9nbfh44op-algo-1-jf408 |\u001b[0m SM_TRAINING_ENV={\"additional_framework_parameters\":{},\"channel_input_dirs\":{\"training\":\"/opt/ml/input/data/training\"},\"current_host\":\"algo-1-jf408\",\"current_instance_group\":\"homogeneousCluster\",\"current_instance_group_hosts\":[],\"current_instance_type\":\"local\",\"distribution_hosts\":[\"algo-1-jf408\"],\"distribution_instance_groups\":[],\"framework_module\":\"sagemaker_mxnet_container.training:main\",\"hosts\":[\"algo-1-jf408\"],\"hyperparameters\":{},\"input_config_dir\":\"/opt/ml/input/config\",\"input_data_config\":{\"training\":{\"TrainingInputMode\":\"File\"}},\"input_dir\":\"/opt/ml/input\",\"instance_groups\":[],\"instance_groups_dict\":{},\"is_hetero\":false,\"is_master\":true,\"is_modelparallel_enabled\":null,\"job_name\":\"autogluon-training-2022-09-13-13-58-28-388\",\"log_level\":20,\"master_hostname\":\"algo-1-jf408\",\"model_dir\":\"/opt/ml/model\",\"module_dir\":\"s3://sagemaker-eu-west-2-327838496401/autogluon-training-2022-09-13-13-58-28-388/source/sourcedir.tar.gz\",\"module_name\":\"train\",\"network_interface_name\":\"eth0\",\"num_cpus\":32,\"num_gpus\":1,\"output_data_dir\":\"/opt/ml/output/data\",\"output_dir\":\"/opt/ml/output\",\"output_intermediate_dir\":\"/opt/ml/output/intermediate\",\"resource_config\":{\"current_host\":\"algo-1-jf408\",\"hosts\":[\"algo-1-jf408\"]},\"user_entry_point\":\"train.py\"}\n",
      "\u001b[36mo9nbfh44op-algo-1-jf408 |\u001b[0m SM_USER_ARGS=[]\n",
      "\u001b[36mo9nbfh44op-algo-1-jf408 |\u001b[0m SM_OUTPUT_INTERMEDIATE_DIR=/opt/ml/output/intermediate\n",
      "\u001b[36mo9nbfh44op-algo-1-jf408 |\u001b[0m SM_CHANNEL_TRAINING=/opt/ml/input/data/training\n",
      "\u001b[36mo9nbfh44op-algo-1-jf408 |\u001b[0m PYTHONPATH=/opt/ml/code:/usr/local/bin:/usr/lib/python38.zip:/usr/lib/python3.8:/usr/lib/python3.8/lib-dynload:/usr/local/lib/python3.8/dist-packages:/usr/lib/python3/dist-packages\n",
      "\u001b[36mo9nbfh44op-algo-1-jf408 |\u001b[0m \n",
      "\u001b[36mo9nbfh44op-algo-1-jf408 |\u001b[0m Invoking script with the following command:\n",
      "\u001b[36mo9nbfh44op-algo-1-jf408 |\u001b[0m \n",
      "\u001b[36mo9nbfh44op-algo-1-jf408 |\u001b[0m /usr/bin/python3 train.py\n",
      "\u001b[36mo9nbfh44op-algo-1-jf408 |\u001b[0m \n",
      "\u001b[36mo9nbfh44op-algo-1-jf408 |\u001b[0m \n",
      "\u001b[36mo9nbfh44op-algo-1-jf408 |\u001b[0m Global seed set to 123\n",
      "\u001b[36mo9nbfh44op-algo-1-jf408 |\u001b[0m Warning: path already exists! This predictor may overwrite an existing predictor! path=\"/opt/ml/model\"\n",
      "Downloading: 100% 27.0/27.0 [00:00<00:00, 45.5kB/s]\n",
      "Downloading: 100% 666/666 [00:00<00:00, 1.07MB/s]\n",
      "Downloading: 100% 226k/226k [00:00<00:00, 1.02MB/s]\n",
      "Downloading: 100% 455k/455k [00:00<00:00, 1.24MB/s]\n",
      "\u001b[36mo9nbfh44op-algo-1-jf408 |\u001b[0m /usr/local/lib/python3.8/dist-packages/torch/functional.py:478: UserWarning: torch.meshgrid: in an upcoming release, it will be required to pass the indexing argument. (Triggered internally at  ../aten/src/ATen/native/TensorShape.cpp:2894.)\n",
      "\u001b[36mo9nbfh44op-algo-1-jf408 |\u001b[0m   return _VF.meshgrid(tensors, **kwargs)  # type: ignore[attr-defined]\n",
      "\u001b[36mo9nbfh44op-algo-1-jf408 |\u001b[0m Downloading: \"https://github.com/SwinTransformer/storage/releases/download/v1.0.0/swin_base_patch4_window7_224_22kto1k.pth\" to /root/.cache/torch/hub/checkpoints/swin_base_patch4_window7_224_22kto1k.pth\n",
      "Downloading: 100% 4.09k/4.09k [00:00<00:00, 5.47MB/s]\n",
      "Downloading: 100% 842k/842k [00:00<00:00, 2.03MB/s]\n",
      "Downloading: 100% 512k/512k [00:00<00:00, 1.39MB/s]\n",
      "Downloading: 100% 389/389 [00:00<00:00, 653kB/s]\n",
      "Downloading: 100% 568/568 [00:00<00:00, 750kB/s]\n",
      "Downloading: 100% 420M/420M [00:09<00:00, 45.6MB/s] \n",
      "Downloading: 100% 577M/577M [00:13<00:00, 43.7MB/s] \n",
      "\u001b[36mo9nbfh44op-algo-1-jf408 |\u001b[0m /usr/local/lib/python3.8/dist-packages/torchmetrics/utilities/prints.py:36: UserWarning: Metric `AUROC` will save all targets and predictions in buffer. For large datasets this may lead to large memory footprint.\n",
      "\u001b[36mo9nbfh44op-algo-1-jf408 |\u001b[0m   warnings.warn(*args, **kwargs)\n",
      "\u001b[36mo9nbfh44op-algo-1-jf408 |\u001b[0m Auto select gpus: [0]\n",
      "\u001b[36mo9nbfh44op-algo-1-jf408 |\u001b[0m Using 16bit native Automatic Mixed Precision (AMP)\n",
      "\u001b[36mo9nbfh44op-algo-1-jf408 |\u001b[0m GPU available: True, used: True\n",
      "\u001b[36mo9nbfh44op-algo-1-jf408 |\u001b[0m TPU available: False, using: 0 TPU cores\n",
      "\u001b[36mo9nbfh44op-algo-1-jf408 |\u001b[0m IPU available: False, using: 0 IPUs\n",
      "\u001b[36mo9nbfh44op-algo-1-jf408 |\u001b[0m HPU available: False, using: 0 HPUs\n",
      "\u001b[36mo9nbfh44op-algo-1-jf408 |\u001b[0m LOCAL_RANK: 0 - CUDA_VISIBLE_DEVICES: [0]\n",
      "\u001b[36mo9nbfh44op-algo-1-jf408 |\u001b[0m \n",
      "\u001b[36mo9nbfh44op-algo-1-jf408 |\u001b[0m   | Name              | Type                | Params\n",
      "\u001b[36mo9nbfh44op-algo-1-jf408 |\u001b[0m ----------------------------------------------------------\n",
      "\u001b[36mo9nbfh44op-algo-1-jf408 |\u001b[0m 0 | model             | MultimodalFusionMLP | 349 M \n",
      "\u001b[36mo9nbfh44op-algo-1-jf408 |\u001b[0m 1 | validation_metric | AUROC               | 0     \n",
      "\u001b[36mo9nbfh44op-algo-1-jf408 |\u001b[0m 2 | loss_func         | CrossEntropyLoss    | 0     \n",
      "\u001b[36mo9nbfh44op-algo-1-jf408 |\u001b[0m ----------------------------------------------------------\n",
      "\u001b[36mo9nbfh44op-algo-1-jf408 |\u001b[0m 349 M     Trainable params\n",
      "\u001b[36mo9nbfh44op-algo-1-jf408 |\u001b[0m 0         Non-trainable params\n",
      "\u001b[36mo9nbfh44op-algo-1-jf408 |\u001b[0m 349 M     Total params\n",
      "\u001b[36mo9nbfh44op-algo-1-jf408 |\u001b[0m 699.890   Total estimated model params size (MB)\n",
      "Epoch 0:  33% 30/90 [00:11<00:22,  2.67it/s, loss=1.19, v_num=]\n",
      "Validation: 0it [00:00, ?it/s]\u001b[Am \n",
      "Validation:   0% 0/15 [00:00<?, ?it/s]\u001b[A\n",
      "Validation DataLoader 0:   0% 0/15 [00:00<?, ?it/s]\u001b[A\n",
      "Validation DataLoader 0:   7% 1/15 [00:00<00:02,  5.97it/s]\u001b[A\n",
      "Epoch 0:  34% 31/90 [00:11<00:22,  2.64it/s, loss=1.19, v_num=]\n",
      "Validation DataLoader 0:  13% 2/15 [00:00<00:01,  7.15it/s]\u001b[A\n",
      "Epoch 0:  36% 32/90 [00:11<00:21,  2.70it/s, loss=1.19, v_num=]\n",
      "Validation DataLoader 0:  20% 3/15 [00:00<00:01,  7.84it/s]\u001b[A\n",
      "Epoch 0:  37% 33/90 [00:11<00:20,  2.76it/s, loss=1.19, v_num=]\n",
      "Validation DataLoader 0:  27% 4/15 [00:00<00:01,  7.86it/s]\u001b[A\n",
      "Epoch 0:  38% 34/90 [00:12<00:19,  2.81it/s, loss=1.19, v_num=]\n",
      "Validation DataLoader 0:  33% 5/15 [00:00<00:01,  7.88it/s]\u001b[A\n",
      "Epoch 0:  39% 35/90 [00:12<00:19,  2.87it/s, loss=1.19, v_num=]\n",
      "Validation DataLoader 0:  40% 6/15 [00:00<00:01,  7.68it/s]\u001b[A\n",
      "Epoch 0:  40% 36/90 [00:12<00:18,  2.92it/s, loss=1.19, v_num=]\n",
      "Validation DataLoader 0:  47% 7/15 [00:00<00:00,  8.05it/s]\u001b[A\n",
      "Epoch 0:  41% 37/90 [00:12<00:17,  2.97it/s, loss=1.19, v_num=]\n",
      "Validation DataLoader 0:  53% 8/15 [00:01<00:00,  8.10it/s]\u001b[A\n",
      "Epoch 0:  42% 38/90 [00:12<00:17,  3.02it/s, loss=1.19, v_num=]\n",
      "Validation DataLoader 0:  60% 9/15 [00:01<00:00,  7.62it/s]\u001b[A\n",
      "Epoch 0:  43% 39/90 [00:12<00:16,  3.06it/s, loss=1.19, v_num=]\n",
      "Validation DataLoader 0:  67% 10/15 [00:01<00:00,  7.90it/s]\u001b[A\n",
      "Epoch 0:  44% 40/90 [00:12<00:16,  3.11it/s, loss=1.19, v_num=]\n",
      "Validation DataLoader 0:  73% 11/15 [00:01<00:00,  7.74it/s]\u001b[A\n",
      "Epoch 0:  46% 41/90 [00:12<00:15,  3.16it/s, loss=1.19, v_num=]\n",
      "Validation DataLoader 0:  80% 12/15 [00:01<00:00,  8.20it/s]\u001b[A\n",
      "Epoch 0:  47% 42/90 [00:13<00:14,  3.21it/s, loss=1.19, v_num=]\n",
      "Validation DataLoader 0:  87% 13/15 [00:01<00:00,  8.60it/s]\u001b[A\n",
      "Epoch 0:  48% 43/90 [00:13<00:14,  3.26it/s, loss=1.19, v_num=]\n",
      "Validation DataLoader 0:  93% 14/15 [00:01<00:00,  8.39it/s]\u001b[A\n",
      "Epoch 0:  49% 44/90 [00:13<00:13,  3.31it/s, loss=1.19, v_num=]\n",
      "Validation DataLoader 0: 100% 15/15 [00:01<00:00,  8.67it/s]\u001b[A\n",
      "Epoch 0:  50% 45/90 [00:13<00:13,  3.35it/s, loss=1.19, v_num=]\n",
      "                                                            \u001b[AEpoch 0, global step 1: 'val_roc_auc' reached 0.58528 (best 0.58528), saving model to '/opt/ml/model/epoch=0-step=1.ckpt' as top 3\n",
      "Epoch 0:  83% 75/90 [00:41<00:08,  1.81it/s, loss=1.01, v_num=]\n",
      "Validation: 0it [00:00, ?it/s]\u001b[Am \n",
      "Validation:   0% 0/15 [00:00<?, ?it/s]\u001b[A\n",
      "Validation DataLoader 0:   0% 0/15 [00:00<?, ?it/s]\u001b[A\n",
      "Validation DataLoader 0:   7% 1/15 [00:00<00:02,  5.89it/s]\u001b[A\n",
      "Epoch 0:  84% 76/90 [00:41<00:07,  1.81it/s, loss=1.01, v_num=]\n",
      "Validation DataLoader 0:  13% 2/15 [00:00<00:01,  7.10it/s]\u001b[A\n",
      "Epoch 0:  86% 77/90 [00:42<00:07,  1.83it/s, loss=1.01, v_num=]\n",
      "Validation DataLoader 0:  20% 3/15 [00:00<00:01,  7.79it/s]\u001b[A\n",
      "Epoch 0:  87% 78/90 [00:42<00:06,  1.85it/s, loss=1.01, v_num=]\n",
      "Validation DataLoader 0:  27% 4/15 [00:00<00:01,  7.82it/s]\u001b[A\n",
      "Epoch 0:  88% 79/90 [00:42<00:05,  1.87it/s, loss=1.01, v_num=]\n",
      "Validation DataLoader 0:  33% 5/15 [00:00<00:01,  7.93it/s]\u001b[A\n",
      "Epoch 0:  89% 80/90 [00:42<00:05,  1.89it/s, loss=1.01, v_num=]\n",
      "Validation DataLoader 0:  40% 6/15 [00:00<00:01,  7.69it/s]\u001b[A\n",
      "Epoch 0:  90% 81/90 [00:42<00:04,  1.90it/s, loss=1.01, v_num=]\n",
      "Validation DataLoader 0:  47% 7/15 [00:00<00:00,  8.06it/s]\u001b[A\n",
      "Epoch 0:  91% 82/90 [00:42<00:04,  1.92it/s, loss=1.01, v_num=]\n",
      "Validation DataLoader 0:  53% 8/15 [00:01<00:00,  8.07it/s]\u001b[A\n",
      "Epoch 0:  92% 83/90 [00:42<00:03,  1.94it/s, loss=1.01, v_num=]\n",
      "Validation DataLoader 0:  60% 9/15 [00:01<00:00,  7.61it/s]\u001b[A\n",
      "Epoch 0:  93% 84/90 [00:42<00:03,  1.96it/s, loss=1.01, v_num=]\n",
      "Validation DataLoader 0:  67% 10/15 [00:01<00:00,  7.88it/s]\u001b[A\n",
      "Epoch 0:  94% 85/90 [00:43<00:02,  1.98it/s, loss=1.01, v_num=]\n",
      "Validation DataLoader 0:  73% 11/15 [00:01<00:00,  7.73it/s]\u001b[A\n",
      "Epoch 0:  96% 86/90 [00:43<00:02,  1.99it/s, loss=1.01, v_num=]\n",
      "Validation DataLoader 0:  80% 12/15 [00:01<00:00,  8.17it/s]\u001b[A\n",
      "Epoch 0:  97% 87/90 [00:43<00:01,  2.01it/s, loss=1.01, v_num=]\n",
      "Validation DataLoader 0:  87% 13/15 [00:01<00:00,  8.55it/s]\u001b[A\n",
      "Epoch 0:  98% 88/90 [00:43<00:00,  2.03it/s, loss=1.01, v_num=]\n",
      "Validation DataLoader 0:  93% 14/15 [00:01<00:00,  8.35it/s]\u001b[A\n",
      "Epoch 0:  99% 89/90 [00:43<00:00,  2.05it/s, loss=1.01, v_num=]\n",
      "Validation DataLoader 0: 100% 15/15 [00:01<00:00,  8.62it/s]\u001b[A\n",
      "Epoch 0: 100% 90/90 [00:43<00:00,  2.06it/s, loss=1.01, v_num=]\n",
      "                                                            \u001b[AEpoch 0, global step 4: 'val_roc_auc' reached 0.72472 (best 0.72472), saving model to '/opt/ml/model/epoch=0-step=4.ckpt' as top 3\n",
      "Epoch 1:  33% 30/90 [00:11<00:22,  2.69it/s, loss=1.11, v_num=] \n",
      "Validation: 0it [00:00, ?it/s]\u001b[Am \n",
      "Validation:   0% 0/15 [00:00<?, ?it/s]\u001b[A\n",
      "Validation DataLoader 0:   0% 0/15 [00:00<?, ?it/s]\u001b[A\n",
      "Validation DataLoader 0:   7% 1/15 [00:00<00:02,  5.98it/s]\u001b[A\n",
      "Epoch 1:  34% 31/90 [00:11<00:22,  2.67it/s, loss=1.11, v_num=]\n",
      "Validation DataLoader 0:  13% 2/15 [00:00<00:01,  7.13it/s]\u001b[A\n",
      "Epoch 1:  36% 32/90 [00:11<00:21,  2.73it/s, loss=1.11, v_num=]\n",
      "Validation DataLoader 0:  20% 3/15 [00:00<00:01,  7.79it/s]\u001b[A\n",
      "Epoch 1:  37% 33/90 [00:11<00:20,  2.78it/s, loss=1.11, v_num=]\n",
      "Validation DataLoader 0:  27% 4/15 [00:00<00:01,  7.81it/s]\u001b[A\n",
      "Epoch 1:  38% 34/90 [00:11<00:19,  2.84it/s, loss=1.11, v_num=]\n",
      "Validation DataLoader 0:  33% 5/15 [00:00<00:01,  7.92it/s]\u001b[A\n",
      "Epoch 1:  39% 35/90 [00:12<00:19,  2.89it/s, loss=1.11, v_num=]\n",
      "Validation DataLoader 0:  40% 6/15 [00:00<00:01,  7.67it/s]\u001b[A\n",
      "Epoch 1:  40% 36/90 [00:12<00:18,  2.94it/s, loss=1.11, v_num=]\n",
      "Validation DataLoader 0:  47% 7/15 [00:00<00:01,  7.98it/s]\u001b[A\n",
      "Epoch 1:  41% 37/90 [00:12<00:17,  2.99it/s, loss=1.11, v_num=]\n",
      "Validation DataLoader 0:  53% 8/15 [00:01<00:00,  8.02it/s]\u001b[A\n",
      "Epoch 1:  42% 38/90 [00:12<00:17,  3.04it/s, loss=1.11, v_num=]\n",
      "Validation DataLoader 0:  60% 9/15 [00:01<00:00,  7.54it/s]\u001b[A\n",
      "Epoch 1:  43% 39/90 [00:12<00:16,  3.09it/s, loss=1.11, v_num=]\n",
      "Validation DataLoader 0:  67% 10/15 [00:01<00:00,  7.83it/s]\u001b[A\n",
      "Epoch 1:  44% 40/90 [00:12<00:15,  3.14it/s, loss=1.11, v_num=]\n",
      "Validation DataLoader 0:  73% 11/15 [00:01<00:00,  7.71it/s]\u001b[A\n",
      "Epoch 1:  46% 41/90 [00:12<00:15,  3.18it/s, loss=1.11, v_num=]\n",
      "Validation DataLoader 0:  80% 12/15 [00:01<00:00,  8.16it/s]\u001b[A\n",
      "Epoch 1:  47% 42/90 [00:12<00:14,  3.23it/s, loss=1.11, v_num=]\n",
      "Validation DataLoader 0:  87% 13/15 [00:01<00:00,  8.54it/s]\u001b[A\n",
      "Epoch 1:  48% 43/90 [00:13<00:14,  3.28it/s, loss=1.11, v_num=]\n",
      "Validation DataLoader 0:  93% 14/15 [00:01<00:00,  8.32it/s]\u001b[A\n",
      "Epoch 1:  49% 44/90 [00:13<00:13,  3.33it/s, loss=1.11, v_num=]\n",
      "Validation DataLoader 0: 100% 15/15 [00:01<00:00,  8.58it/s]\u001b[A\n",
      "Epoch 1:  50% 45/90 [00:13<00:13,  3.38it/s, loss=1.11, v_num=]\n",
      "                                                            \u001b[AEpoch 1, global step 5: 'val_roc_auc' reached 0.72361 (best 0.72472), saving model to '/opt/ml/model/epoch=1-step=5.ckpt' as top 3\n",
      "===== Job Complete =====\n"
     ]
    }
   ],
   "source": [
    "mnist_estimator.fit({\"training\": data_uri})"
   ]
  },
  {
   "cell_type": "markdown",
   "id": "ef309dce",
   "metadata": {},
   "source": [
    "## Inference"
   ]
  },
  {
   "cell_type": "code",
   "execution_count": 26,
   "id": "658dd57d",
   "metadata": {},
   "outputs": [],
   "source": [
    "inference_image_uri = image_uris.retrieve(\n",
    "            \"autogluon\",\n",
    "            region=region,\n",
    "            version=\"0.5\",\n",
    "            py_version=\"py38\",\n",
    "            image_scope=\"inference\",\n",
    "            instance_type=\"local\",\n",
    "        )"
   ]
  },
  {
   "cell_type": "code",
   "execution_count": 27,
   "id": "252d27d1",
   "metadata": {},
   "outputs": [],
   "source": [
    "from sagemaker.model import Model"
   ]
  },
  {
   "cell_type": "code",
   "execution_count": 39,
   "id": "f26072f7",
   "metadata": {},
   "outputs": [],
   "source": [
    "trained_model_artifacts_location = mnist_estimator.model_data"
   ]
  },
  {
   "cell_type": "code",
   "execution_count": 45,
   "id": "143d98d2",
   "metadata": {},
   "outputs": [],
   "source": [
    "from sagemaker import LocalSession\n",
    "\n",
    "mm_inference_estimator = Model(\n",
    "    entry_point=\"inference.py\",\n",
    "    source_dir = \"code\",\n",
    "    role=role,\n",
    "    model_data=trained_model_artifacts_location,\n",
    "    image_uri=inference_image_uri,\n",
    "    sagemaker_session=LocalSession()\n",
    ")"
   ]
  },
  {
   "cell_type": "code",
   "execution_count": null,
   "id": "b6ff4b48",
   "metadata": {},
   "outputs": [],
   "source": [
    "predictor = mm_inference_estimator.deploy(initial_instance_count=1, instance_type=\"local\", endpoint_name=\"mm-ag-model\", wait=True)"
   ]
  },
  {
   "cell_type": "code",
   "execution_count": 47,
   "id": "10de7c93",
   "metadata": {},
   "outputs": [],
   "source": [
    "from sagemaker.predictor import Predictor\n",
    "from sagemaker.deserializers import JSONDeserializer\n",
    "from sagemaker.serializers import NumpySerializer, JSONSerializer\n",
    "from sagemaker import LocalSession\n",
    "\n",
    "\n",
    "#TODO: FIX REAL SERIALIZATION\n",
    "predictor = Predictor(endpoint_name=\"mm-ag-model\",\n",
    "                          sagemaker_session=LocalSession(),\n",
    "                          serializer=sagemaker.serializers.JSONSerializer(),\n",
    "                          deserializer=sagemaker.deserializers.JSONDeserializer()\n",
    "                     )"
   ]
  },
  {
   "cell_type": "code",
   "execution_count": null,
   "id": "d465485d",
   "metadata": {},
   "outputs": [],
   "source": [
    "#TODO: put real data\n",
    "r=predictor.predict({\"sdsdsd\":\"sdsdsdsd\"})"
   ]
  },
  {
   "cell_type": "code",
   "execution_count": null,
   "id": "8cd94bd4",
   "metadata": {},
   "outputs": [],
   "source": [
    "predictor.delete_endpoint()"
   ]
  },
  {
   "cell_type": "code",
   "execution_count": null,
   "id": "3d06ae20",
   "metadata": {},
   "outputs": [],
   "source": []
  }
 ],
 "metadata": {
  "kernelspec": {
   "display_name": "conda_mxnet_p37",
   "language": "python",
   "name": "conda_mxnet_p37"
  },
  "language_info": {
   "codemirror_mode": {
    "name": "ipython",
    "version": 3
   },
   "file_extension": ".py",
   "mimetype": "text/x-python",
   "name": "python",
   "nbconvert_exporter": "python",
   "pygments_lexer": "ipython3",
   "version": "3.7.10"
  },
  "toc-autonumbering": true,
  "toc-showcode": false,
  "toc-showmarkdowntxt": false
 },
 "nbformat": 4,
 "nbformat_minor": 5
}

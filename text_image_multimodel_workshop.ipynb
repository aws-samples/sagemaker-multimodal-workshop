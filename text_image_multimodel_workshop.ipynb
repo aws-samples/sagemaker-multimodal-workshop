{
 "cells": [
  {
   "cell_type": "markdown",
   "id": "e63a4c33",
   "metadata": {},
   "source": [
    "# Text and images: Getting Started with Multimodal on Sagemaker\n",
    "Information in the real world usually comes as different sensory input/output channels, like: images that can be associated with text explanations; or text that contains images to more clearly express the main idea of the article. \n",
    "*Multimodal learning* is a good model to represent the joint representations of different modalities.\n",
    "In this talk  we would provide a gentle introduction to Multimodal learning and would train and deploy a multimodal predictor based on natural language text, images and tabular data using SageMaker and AutoGloun.\n",
    "\n",
    "We will train a model that takes pet NLP descriptions, images and tabular features to predict how fast (category) they will get adopted.\n"
   ]
  },
  {
   "cell_type": "markdown",
   "id": "c0f57ad8",
   "metadata": {},
   "source": [
    "## Step 1: Install libraries and prepare environment \n",
    "! Important: this workshop was tested on ml.g4dn.8xlarge, 200 GB (!!!), conda_mxnet_p37 kernel "
   ]
  },
  {
   "cell_type": "markdown",
   "id": "42cc48ef",
   "metadata": {},
   "source": [
    "Because 'llvmlite' is a distutils installed project, pip is not able to remove it. \n",
    "Let's remove it manually."
   ]
  },
  {
   "cell_type": "code",
   "execution_count": null,
   "id": "1fe667d9",
   "metadata": {},
   "outputs": [],
   "source": [
    "%%time \n",
    "!find /home/ec2-user/anaconda3 -type f -name '*llvmlite*.egg-info' -delete"
   ]
  },
  {
   "cell_type": "markdown",
   "id": "aa6c97f8",
   "metadata": {},
   "source": [
    "Next, we'll upgrade pip amd install autogluon lib."
   ]
  },
  {
   "cell_type": "code",
   "execution_count": null,
   "id": "eff8f60d",
   "metadata": {},
   "outputs": [],
   "source": [
    "%pip install -U pip\n",
    "%pip install -U setuptools wheel\n",
    "%pip install -U mxnet<2.0.0\n",
    "%pip install autogluon --ignore-installed\n",
    "%pip install -U sagemaker"
   ]
  },
  {
   "cell_type": "markdown",
   "id": "75b3f7ae",
   "metadata": {},
   "source": [
    "To ensure we can run local mode, increase the conda memory to 95%."
   ]
  },
  {
   "cell_type": "code",
   "execution_count": null,
   "id": "ea6c08f3",
   "metadata": {},
   "outputs": [],
   "source": [
    "!cp -f image.py /home/ec2-user/anaconda3/envs/mxnet_p37/lib/python3.7/site-packages/sagemaker/local/image.py"
   ]
  },
  {
   "cell_type": "code",
   "execution_count": null,
   "id": "3f026833",
   "metadata": {},
   "outputs": [],
   "source": [
    "# only run the below cells when you are using sagemaker notebook instances\n",
    "!bash ./prepare-docker.sh"
   ]
  },
  {
   "cell_type": "code",
   "execution_count": null,
   "id": "cf542ca7",
   "metadata": {},
   "outputs": [],
   "source": [
    "!wget -q https://raw.githubusercontent.com/aws-samples/amazon-sagemaker-script-mode/master/local_mode_setup.sh\n",
    "!/bin/bash ./local_mode_setup.sh"
   ]
  },
  {
   "cell_type": "markdown",
   "id": "fd6eee1a",
   "metadata": {},
   "source": [
    "Restart the kernel"
   ]
  },
  {
   "cell_type": "code",
   "execution_count": null,
   "id": "37ea7d99",
   "metadata": {},
   "outputs": [],
   "source": [
    "import IPython\n",
    "\n",
    "IPython.Application.instance().kernel.do_shutdown(True) #automatically restarts kernel"
   ]
  },
  {
   "cell_type": "markdown",
   "id": "dce11f1d",
   "metadata": {},
   "source": [
    "## Step 2: Download and explore data"
   ]
  },
  {
   "cell_type": "code",
   "execution_count": null,
   "id": "b6bf8ef2",
   "metadata": {},
   "outputs": [],
   "source": [
    "import sagemaker\n",
    "import os\n",
    "import subprocess\n",
    "from sagemaker.mxnet import MXNet\n",
    "from autogluon.core.utils.loaders import load_zip\n",
    "from sagemaker.s3 import S3Uploader, s3_path_join\n",
    "\n",
    "sagemaker_session = sagemaker.Session()\n",
    "\n",
    "bucket = sagemaker_session.default_bucket()\n",
    "prefix = \"sagemaker/DEMO-autogluon-text-image-multimodel\"\n",
    "region = sagemaker_session.boto_region_name\n",
    "account_id = sagemaker_session.account_id()\n",
    "role = sagemaker.get_execution_role()"
   ]
  },
  {
   "cell_type": "code",
   "execution_count": null,
   "id": "cd7d0471",
   "metadata": {},
   "outputs": [],
   "source": [
    "download_dir = './ag_automm_tutorial'\n",
    "zip_file = 'https://automl-mm-bench.s3.amazonaws.com/petfinder_for_tutorial.zip'"
   ]
  },
  {
   "cell_type": "code",
   "execution_count": null,
   "id": "233f7aa3",
   "metadata": {},
   "outputs": [],
   "source": [
    "%%time\n",
    "load_zip.unzip(zip_file, unzip_dir=download_dir)"
   ]
  },
  {
   "cell_type": "markdown",
   "id": "f269de4d",
   "metadata": {},
   "source": [
    "Explore the data"
   ]
  },
  {
   "cell_type": "code",
   "execution_count": null,
   "id": "b4872ec5",
   "metadata": {},
   "outputs": [],
   "source": [
    "import pandas as pd\n",
    "dataset_path = download_dir + '/petfinder_for_tutorial'\n",
    "train_data = pd.read_csv(f'{dataset_path}/train.csv', index_col=0)\n",
    "test_data = pd.read_csv(f'{dataset_path}/test.csv', index_col=0)\n",
    "label_col = 'AdoptionSpeed'"
   ]
  },
  {
   "cell_type": "code",
   "execution_count": null,
   "id": "a6701e1f",
   "metadata": {},
   "outputs": [],
   "source": [
    "image_col = 'Images'\n",
    "train_data[image_col] = train_data[image_col].apply(lambda ele: ele.split(';')[0]) # Use the first image for a quick tutorial\n",
    "test_data[image_col] = test_data[image_col].apply(lambda ele: ele.split(';')[0])\n",
    "\n",
    "\n",
    "def path_expander(path, base_folder):\n",
    "    path_l = path.split(';')\n",
    "    return ';'.join([os.path.abspath(os.path.join(base_folder, path)) for path in path_l])\n",
    "\n",
    "train_data[image_col] = train_data[image_col].apply(lambda ele: path_expander(ele, base_folder=dataset_path))\n",
    "test_data[image_col] = test_data[image_col].apply(lambda ele: path_expander(ele, base_folder=dataset_path))\n",
    "\n",
    "train_data[image_col].iloc[0]"
   ]
  },
  {
   "cell_type": "code",
   "execution_count": null,
   "id": "7e6ceaa2",
   "metadata": {},
   "outputs": [],
   "source": [
    "train_data['AdoptionSpeed'].hist()"
   ]
  },
  {
   "cell_type": "code",
   "execution_count": null,
   "id": "ffcd7c52",
   "metadata": {},
   "outputs": [],
   "source": [
    "train_data.hist(figsize=(20,20))"
   ]
  },
  {
   "cell_type": "code",
   "execution_count": null,
   "id": "b652d2a6",
   "metadata": {},
   "outputs": [],
   "source": [
    "example_row = train_data.iloc[0]\n",
    "\n",
    "example_row"
   ]
  },
  {
   "cell_type": "code",
   "execution_count": null,
   "id": "0c6b1bf5",
   "metadata": {},
   "outputs": [],
   "source": [
    "example_row['Description']\n"
   ]
  },
  {
   "cell_type": "code",
   "execution_count": null,
   "id": "f82cb573",
   "metadata": {},
   "outputs": [],
   "source": [
    "example_image = example_row[image_col]\n",
    "\n",
    "from IPython.display import Image, display\n",
    "pil_img = Image(filename=example_image)\n",
    "display(pil_img)"
   ]
  },
  {
   "cell_type": "markdown",
   "id": "743f2442",
   "metadata": {},
   "source": [
    "Upload to s3"
   ]
  },
  {
   "cell_type": "code",
   "execution_count": null,
   "id": "846d2439",
   "metadata": {},
   "outputs": [],
   "source": [
    "s3_data_path = s3_path_join(\"s3://\", bucket, f\"{prefix}/data\")\n",
    "dataset_path = download_dir + '/petfinder_for_tutorial'\n",
    "print(f\"Uploading data to {s3_data_path}\")\n",
    "data_uri = S3Uploader.upload(dataset_path, s3_data_path)"
   ]
  },
  {
   "cell_type": "markdown",
   "id": "3c942b08",
   "metadata": {},
   "source": [
    "## Train the model"
   ]
  },
  {
   "cell_type": "code",
   "execution_count": null,
   "id": "6cf44936",
   "metadata": {},
   "outputs": [],
   "source": [
    "instance_type = \"local\"\n",
    "\n",
    "try:\n",
    "    if subprocess.call(\"nvidia-smi\") == 0:\n",
    "        ## Set type to GPU if one is present\n",
    "        instance_type = \"local_gpu\"\n",
    "except:\n",
    "    pass\n",
    "\n",
    "print(\"Instance type = \" + instance_type)"
   ]
  },
  {
   "cell_type": "code",
   "execution_count": null,
   "id": "0860bc7d",
   "metadata": {},
   "outputs": [],
   "source": [
    "from sagemaker import image_uris"
   ]
  },
  {
   "cell_type": "code",
   "execution_count": null,
   "id": "d854928e",
   "metadata": {},
   "outputs": [],
   "source": [
    "image_uri = image_uris.retrieve(\n",
    "            \"autogluon\",\n",
    "            region=region,\n",
    "            version=\"0.5\",\n",
    "            py_version=\"py38\",\n",
    "            image_scope=\"training\",\n",
    "            instance_type=\"local_gpu\",\n",
    "        )"
   ]
  },
  {
   "cell_type": "code",
   "execution_count": null,
   "id": "91982a5d",
   "metadata": {},
   "outputs": [],
   "source": [
    "from sagemaker.estimator import Estimator"
   ]
  },
  {
   "cell_type": "code",
   "execution_count": null,
   "id": "d8d302a9",
   "metadata": {},
   "outputs": [],
   "source": [
    "model_artifacts_location = f\"s3://{bucket}/{prefix}/artifacts\"\n",
    "mnist_estimator = Estimator(\n",
    "    entry_point=\"train.py\",\n",
    "    role=role,\n",
    "    output_path=model_artifacts_location,\n",
    "    instance_count=1,\n",
    "    instance_type=\"local_gpu\",\n",
    "    image_uri=image_uri,\n",
    "    volume_size=200\n",
    ")"
   ]
  },
  {
   "cell_type": "code",
   "execution_count": null,
   "id": "1ed5f570",
   "metadata": {},
   "outputs": [],
   "source": [
    "mnist_estimator.fit({\"training\": data_uri})"
   ]
  },
  {
   "cell_type": "markdown",
   "id": "81487491",
   "metadata": {},
   "source": [
    "## Inference"
   ]
  },
  {
   "cell_type": "code",
   "execution_count": null,
   "id": "4c30fb8e",
   "metadata": {},
   "outputs": [],
   "source": [
    "inference_image_uri = image_uris.retrieve(\n",
    "            \"autogluon\",\n",
    "            region=region,\n",
    "            version=\"0.5\",\n",
    "            py_version=\"py38\",\n",
    "            image_scope=\"inference\",\n",
    "            instance_type=\"local\",\n",
    "        )"
   ]
  },
  {
   "cell_type": "code",
   "execution_count": null,
   "id": "bd42e618",
   "metadata": {},
   "outputs": [],
   "source": [
    "from sagemaker.model import Model"
   ]
  },
  {
   "cell_type": "code",
   "execution_count": null,
   "id": "f9d537f9",
   "metadata": {},
   "outputs": [],
   "source": [
    "from sagemaker import LocalSession\n",
    "mm_inference_estimator = Model(\n",
    "    entry_point=\"inf2.py\",\n",
    "    source_dir = \"code\",\n",
    "    role=role,\n",
    "    model_data=model_artifacts_location,\n",
    "    image_uri=inference_image_uri,\n",
    "    sagemaker_session=LocalSession()\n",
    ")"
   ]
  },
  {
   "cell_type": "code",
   "execution_count": null,
   "id": "0fafc6ff",
   "metadata": {},
   "outputs": [],
   "source": [
    "predictor = mm_inference_estimator.deploy(initial_instance_count=1, instance_type=\"local\", endpoint_name=\"mm-ag-model\", wait=True)"
   ]
  },
  {
   "cell_type": "code",
   "execution_count": null,
   "id": "b85f49e8",
   "metadata": {},
   "outputs": [],
   "source": [
    "mm_model = MXNetModel(model_data=model_artifacts_location,\n",
    "                         role=role,\n",
    "                         entry_point='inference.py',\n",
    "                         image_uri=f\"{account_id}.dkr.ecr.{region}.amazonaws.com/mxnet-extend-container-autogluon:latest\",\n",
    "                        )\n"
   ]
  },
  {
   "cell_type": "code",
   "execution_count": null,
   "id": "54cca237",
   "metadata": {},
   "outputs": [],
   "source": [
    "from sagemaker.predictor import Predictor\n",
    "from sagemaker.deserializers import JSONDeserializer\n",
    "from sagemaker.serializers import NumpySerializer, JSONSerializer\n",
    "from sagemaker import LocalSession\n",
    "\n",
    "\n",
    "#TODO: FIX REAL SERIALIZATION\n",
    "predictor = Predictor(endpoint_name=\"mm-ag-model\",\n",
    "                          sagemaker_session=LocalSession(),\n",
    "                          serializer=sagemaker.serializers.JSONSerializer(),\n",
    "                          deserializer=sagemaker.deserializers.JSONDeserializer()\n",
    "                     )"
   ]
  },
  {
   "cell_type": "code",
   "execution_count": null,
   "id": "135f7ebe",
   "metadata": {},
   "outputs": [],
   "source": [
    "#TODO: put real data\n",
    "r=predictor.predict({\"sdsdsd\":\"sdsdsdsd\"})"
   ]
  }
 ],
 "metadata": {
  "kernelspec": {
   "display_name": "conda_mxnet_p37",
   "language": "python",
   "name": "conda_mxnet_p37"
  },
  "language_info": {
   "codemirror_mode": {
    "name": "ipython",
    "version": 3
   },
   "file_extension": ".py",
   "mimetype": "text/x-python",
   "name": "python",
   "nbconvert_exporter": "python",
   "pygments_lexer": "ipython3",
   "version": "3.7.10"
  }
 },
 "nbformat": 4,
 "nbformat_minor": 5
}
